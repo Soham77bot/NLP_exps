{
  "nbformat": 4,
  "nbformat_minor": 0,
  "metadata": {
    "colab": {
      "provenance": [],
      "gpuType": "T4"
    },
    "kernelspec": {
      "name": "python3",
      "display_name": "Python 3"
    },
    "language_info": {
      "name": "python"
    },
    "accelerator": "GPU"
  },
  "cells": [
    {
      "cell_type": "code",
      "source": [
        "import nltk\n",
        "import pandas as pd\n",
        "import re\n",
        "from sklearn.feature_extraction.text import CountVectorizer, TfidfVectorizer\n",
        "from nltk.corpus import stopwords\n",
        "from nltk.stem import PorterStemmer, WordNetLemmatizer\n",
        "\n",
        "# Download necessary NLTK resources\n",
        "nltk.download('punkt')\n",
        "nltk.download('stopwords')\n",
        "nltk.download('wordnet')\n",
        "nltk.download('punkt_tab')  # resolves LookupError\n"
      ],
      "metadata": {
        "colab": {
          "base_uri": "https://localhost:8080/"
        },
        "id": "ipkp2X7euXEx",
        "outputId": "5ac5a0ec-7216-4d12-807f-c1db00cf788e"
      },
      "execution_count": 1,
      "outputs": [
        {
          "output_type": "stream",
          "name": "stderr",
          "text": [
            "[nltk_data] Downloading package punkt to /root/nltk_data...\n",
            "[nltk_data]   Unzipping tokenizers/punkt.zip.\n",
            "[nltk_data] Downloading package stopwords to /root/nltk_data...\n",
            "[nltk_data]   Unzipping corpora/stopwords.zip.\n",
            "[nltk_data] Downloading package wordnet to /root/nltk_data...\n",
            "[nltk_data] Downloading package punkt_tab to /root/nltk_data...\n",
            "[nltk_data]   Unzipping tokenizers/punkt_tab.zip.\n"
          ]
        },
        {
          "output_type": "execute_result",
          "data": {
            "text/plain": [
              "True"
            ]
          },
          "metadata": {},
          "execution_count": 1
        }
      ]
    },
    {
      "cell_type": "code",
      "source": [
        "# Sample text data\n",
        "data = {\n",
        "    'Text': [\n",
        "        \"Cats are playing in the garden.\",\n",
        "        \"Dogs bark loudly at strangers.\",\n",
        "        \"Birds are flying in the sky.\",\n",
        "        \"Cats and dogs are friendly pets.\",\n",
        "        \"The garden has many beautiful flowers.\"\n",
        "    ]\n",
        "}\n",
        "\n",
        "# Create a DataFrame\n",
        "df = pd.DataFrame(data)\n",
        "print(df)\n"
      ],
      "metadata": {
        "colab": {
          "base_uri": "https://localhost:8080/"
        },
        "id": "3bdUoq2uuXHj",
        "outputId": "2b51a1e1-4afc-4b42-a2bf-dc1b5088c8d0"
      },
      "execution_count": 2,
      "outputs": [
        {
          "output_type": "stream",
          "name": "stdout",
          "text": [
            "                                     Text\n",
            "0         Cats are playing in the garden.\n",
            "1          Dogs bark loudly at strangers.\n",
            "2            Birds are flying in the sky.\n",
            "3        Cats and dogs are friendly pets.\n",
            "4  The garden has many beautiful flowers.\n"
          ]
        }
      ]
    },
    {
      "cell_type": "code",
      "source": [
        "# Define stopwords, stemmer, and lemmatizer\n",
        "stop_words = set(stopwords.words('english'))\n",
        "stemmer = PorterStemmer()\n",
        "lemmatizer = WordNetLemmatizer()\n",
        "\n",
        "# Define a text preprocessing function\n",
        "def preprocess(text):\n",
        "    text = text.lower()  # Lowercase\n",
        "    text = re.sub(r'[^a-z\\s]', '', text)  # Remove punctuation\n",
        "    tokens = nltk.word_tokenize(text)  # Tokenize\n",
        "    tokens = [word for word in tokens if word not in stop_words]  # Remove stopwords\n",
        "    # Apply lemmatization\n",
        "    tokens = [lemmatizer.lemmatize(word) for word in tokens]\n",
        "    return ' '.join(tokens)\n",
        "\n",
        "# Apply preprocessing\n",
        "df['Clean_Text'] = df['Text'].apply(preprocess)\n",
        "print(df)\n"
      ],
      "metadata": {
        "colab": {
          "base_uri": "https://localhost:8080/"
        },
        "id": "-XNvCjt1uXJx",
        "outputId": "5dc13dce-6f55-485a-f4a8-59756aca31e5"
      },
      "execution_count": 3,
      "outputs": [
        {
          "output_type": "stream",
          "name": "stdout",
          "text": [
            "                                     Text                    Clean_Text\n",
            "0         Cats are playing in the garden.            cat playing garden\n",
            "1          Dogs bark loudly at strangers.      dog bark loudly stranger\n",
            "2            Birds are flying in the sky.               bird flying sky\n",
            "3        Cats and dogs are friendly pets.          cat dog friendly pet\n",
            "4  The garden has many beautiful flowers.  garden many beautiful flower\n"
          ]
        }
      ]
    },
    {
      "cell_type": "code",
      "source": [
        "# Initialize CountVectorizer\n",
        "bow_vectorizer = CountVectorizer()\n",
        "\n",
        "# Fit and transform the clean text\n",
        "bow_matrix = bow_vectorizer.fit_transform(df['Clean_Text'])\n",
        "\n",
        "# Convert to DataFrame for visualization\n",
        "bow_df = pd.DataFrame(bow_matrix.toarray(), columns=bow_vectorizer.get_feature_names_out())\n",
        "print(\"Bag of Words Feature Matrix:\")\n",
        "print(bow_df)\n"
      ],
      "metadata": {
        "colab": {
          "base_uri": "https://localhost:8080/"
        },
        "id": "aoylNYWiuXMX",
        "outputId": "d716f77e-af2b-4446-8dca-e7ff659f4e29"
      },
      "execution_count": 4,
      "outputs": [
        {
          "output_type": "stream",
          "name": "stdout",
          "text": [
            "Bag of Words Feature Matrix:\n",
            "   bark  beautiful  bird  cat  dog  flower  flying  friendly  garden  loudly  \\\n",
            "0     0          0     0    1    0       0       0         0       1       0   \n",
            "1     1          0     0    0    1       0       0         0       0       1   \n",
            "2     0          0     1    0    0       0       1         0       0       0   \n",
            "3     0          0     0    1    1       0       0         1       0       0   \n",
            "4     0          1     0    0    0       1       0         0       1       0   \n",
            "\n",
            "   many  pet  playing  sky  stranger  \n",
            "0     0    0        1    0         0  \n",
            "1     0    0        0    0         1  \n",
            "2     0    0        0    1         0  \n",
            "3     0    1        0    0         0  \n",
            "4     1    0        0    0         0  \n"
          ]
        }
      ]
    },
    {
      "cell_type": "code",
      "source": [
        "# Initialize TF-IDF Vectorizer\n",
        "tfidf_vectorizer = TfidfVectorizer()\n",
        "\n",
        "# Fit and transform the clean text\n",
        "tfidf_matrix = tfidf_vectorizer.fit_transform(df['Clean_Text'])\n",
        "\n",
        "# Convert to DataFrame for visualization\n",
        "tfidf_df = pd.DataFrame(tfidf_matrix.toarray(), columns=tfidf_vectorizer.get_feature_names_out())\n",
        "print(\"TF-IDF Feature Matrix:\")\n",
        "print(tfidf_df)\n"
      ],
      "metadata": {
        "colab": {
          "base_uri": "https://localhost:8080/"
        },
        "id": "kCLpSqdIuXOZ",
        "outputId": "767b07ad-811a-484a-86b1-9928418a1d55"
      },
      "execution_count": 5,
      "outputs": [
        {
          "output_type": "stream",
          "name": "stdout",
          "text": [
            "TF-IDF Feature Matrix:\n",
            "       bark  beautiful     bird       cat       dog    flower   flying  \\\n",
            "0  0.000000   0.000000  0.00000  0.531772  0.000000  0.000000  0.00000   \n",
            "1  0.523358   0.000000  0.00000  0.000000  0.422242  0.000000  0.00000   \n",
            "2  0.000000   0.000000  0.57735  0.000000  0.000000  0.000000  0.57735   \n",
            "3  0.000000   0.000000  0.00000  0.444002  0.444002  0.000000  0.00000   \n",
            "4  0.000000   0.523358  0.00000  0.000000  0.000000  0.523358  0.00000   \n",
            "\n",
            "   friendly    garden    loudly      many       pet   playing      sky  \\\n",
            "0  0.000000  0.531772  0.000000  0.000000  0.000000  0.659118  0.00000   \n",
            "1  0.000000  0.000000  0.523358  0.000000  0.000000  0.000000  0.00000   \n",
            "2  0.000000  0.000000  0.000000  0.000000  0.000000  0.000000  0.57735   \n",
            "3  0.550329  0.000000  0.000000  0.000000  0.550329  0.000000  0.00000   \n",
            "4  0.000000  0.422242  0.000000  0.523358  0.000000  0.000000  0.00000   \n",
            "\n",
            "   stranger  \n",
            "0  0.000000  \n",
            "1  0.523358  \n",
            "2  0.000000  \n",
            "3  0.000000  \n",
            "4  0.000000  \n"
          ]
        }
      ]
    },
    {
      "cell_type": "code",
      "source": [
        "import pandas as pd\n",
        "\n",
        "# Display the BoW matrix\n",
        "print(\"\\nBag of Words Matrix:\")\n",
        "bow_df = pd.DataFrame(bow_matrix.toarray(), columns=bow_vectorizer.get_feature_names_out())\n",
        "print(bow_df)\n",
        "\n",
        "# Display the TF-IDF matrix\n",
        "print(\"\\nTF-IDF Matrix:\")\n",
        "tfidf_df = pd.DataFrame(tfidf_matrix.toarray(), columns=tfidf_vectorizer.get_feature_names_out())\n",
        "print(tfidf_df)\n",
        "\n",
        "# Compare word presence vs importance\n",
        "print(\"\\nTop words based on TF-IDF importance in each document:\")\n",
        "for i, row in tfidf_df.iterrows():\n",
        "    top_words = row.sort_values(ascending=False).head(3)\n",
        "    print(f\"Doc {i+1}:\")\n",
        "    for word, score in top_words.items():\n",
        "        print(f\"   {word}: {score:.4f}\")\n"
      ],
      "metadata": {
        "colab": {
          "base_uri": "https://localhost:8080/"
        },
        "id": "BftqVGOtuXQn",
        "outputId": "6bbdff3e-12b9-4585-ab1d-5f9548684372"
      },
      "execution_count": 6,
      "outputs": [
        {
          "output_type": "stream",
          "name": "stdout",
          "text": [
            "\n",
            "Bag of Words Matrix:\n",
            "   bark  beautiful  bird  cat  dog  flower  flying  friendly  garden  loudly  \\\n",
            "0     0          0     0    1    0       0       0         0       1       0   \n",
            "1     1          0     0    0    1       0       0         0       0       1   \n",
            "2     0          0     1    0    0       0       1         0       0       0   \n",
            "3     0          0     0    1    1       0       0         1       0       0   \n",
            "4     0          1     0    0    0       1       0         0       1       0   \n",
            "\n",
            "   many  pet  playing  sky  stranger  \n",
            "0     0    0        1    0         0  \n",
            "1     0    0        0    0         1  \n",
            "2     0    0        0    1         0  \n",
            "3     0    1        0    0         0  \n",
            "4     1    0        0    0         0  \n",
            "\n",
            "TF-IDF Matrix:\n",
            "       bark  beautiful     bird       cat       dog    flower   flying  \\\n",
            "0  0.000000   0.000000  0.00000  0.531772  0.000000  0.000000  0.00000   \n",
            "1  0.523358   0.000000  0.00000  0.000000  0.422242  0.000000  0.00000   \n",
            "2  0.000000   0.000000  0.57735  0.000000  0.000000  0.000000  0.57735   \n",
            "3  0.000000   0.000000  0.00000  0.444002  0.444002  0.000000  0.00000   \n",
            "4  0.000000   0.523358  0.00000  0.000000  0.000000  0.523358  0.00000   \n",
            "\n",
            "   friendly    garden    loudly      many       pet   playing      sky  \\\n",
            "0  0.000000  0.531772  0.000000  0.000000  0.000000  0.659118  0.00000   \n",
            "1  0.000000  0.000000  0.523358  0.000000  0.000000  0.000000  0.00000   \n",
            "2  0.000000  0.000000  0.000000  0.000000  0.000000  0.000000  0.57735   \n",
            "3  0.550329  0.000000  0.000000  0.000000  0.550329  0.000000  0.00000   \n",
            "4  0.000000  0.422242  0.000000  0.523358  0.000000  0.000000  0.00000   \n",
            "\n",
            "   stranger  \n",
            "0  0.000000  \n",
            "1  0.523358  \n",
            "2  0.000000  \n",
            "3  0.000000  \n",
            "4  0.000000  \n",
            "\n",
            "Top words based on TF-IDF importance in each document:\n",
            "Doc 1:\n",
            "   playing: 0.6591\n",
            "   garden: 0.5318\n",
            "   cat: 0.5318\n",
            "Doc 2:\n",
            "   bark: 0.5234\n",
            "   stranger: 0.5234\n",
            "   loudly: 0.5234\n",
            "Doc 3:\n",
            "   bird: 0.5774\n",
            "   flying: 0.5774\n",
            "   sky: 0.5774\n",
            "Doc 4:\n",
            "   friendly: 0.5503\n",
            "   pet: 0.5503\n",
            "   cat: 0.4440\n",
            "Doc 5:\n",
            "   beautiful: 0.5234\n",
            "   flower: 0.5234\n",
            "   many: 0.5234\n"
          ]
        }
      ]
    },
    {
      "cell_type": "code",
      "source": [],
      "metadata": {
        "id": "PcKej9AJuXS4"
      },
      "execution_count": null,
      "outputs": []
    },
    {
      "cell_type": "code",
      "source": [],
      "metadata": {
        "id": "rgA0023GuXVf"
      },
      "execution_count": null,
      "outputs": []
    },
    {
      "cell_type": "code",
      "source": [],
      "metadata": {
        "id": "VggsRlo6uXXx"
      },
      "execution_count": null,
      "outputs": []
    }
  ]
}